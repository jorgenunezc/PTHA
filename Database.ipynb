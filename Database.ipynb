{
 "cells": [
  {
   "cell_type": "code",
   "execution_count": 2,
   "metadata": {},
   "outputs": [],
   "source": [
    "import json\n",
    "import pickle"
   ]
  },
  {
   "cell_type": "code",
   "execution_count": 3,
   "metadata": {},
   "outputs": [],
   "source": [
    "data = {}\n",
    "\n"
   ]
  },
  {
   "cell_type": "code",
   "execution_count": 4,
   "metadata": {},
   "outputs": [],
   "source": [
    "zone = {}\n",
    "\n",
    "valp = {'latitude':[-33.06,-33.00],'longitude': [288.36,288.48], 'file':'level01.nc'}\n",
    "coq  = {'latitude':[-29.99,-29.80],'longitude': [288.66,288.81], 'file':'level01.nc'}\n",
    "\n",
    "zone['valp']= valp\n",
    "zone['coq'] = coq\n",
    "\n",
    "level1 = {'domain': 'large', 'zone': zone}\n"
   ]
  },
  {
   "cell_type": "code",
   "execution_count": 5,
   "metadata": {},
   "outputs": [],
   "source": [
    "zone = {}\n",
    "\n",
    "valp = {'latitude':[-33.06,-33.00],'longitude': [288.36,288.48], 'file':'level02.nc'}\n",
    "coq  = {'latitude':[-29.99,-29.80],'longitude': [288.66,288.81], 'file':'level02.nc'}\n",
    "\n",
    "zone['valp']= valp\n",
    "zone['coq'] = coq\n",
    "\n",
    "level2 = {'domain': 'regional', 'zone': zone}\n"
   ]
  },
  {
   "cell_type": "code",
   "execution_count": 6,
   "metadata": {},
   "outputs": [],
   "source": [
    "zone = {}\n",
    "\n",
    "valp = {'latitude':[-33.06,-33.00],'longitude': [288.36,288.48], 'file':'level03valp.nc'}\n",
    "coq  = {'latitude':[-29.99,-29.80],'longitude': [288.66,288.81], 'file':'level03coq.nc'}\n",
    "\n",
    "zone['valp']= valp\n",
    "zone['coq'] = coq\n",
    "\n",
    "level3 = {'domain': 'local', 'zone':zone}\n"
   ]
  },
  {
   "cell_type": "code",
   "execution_count": 7,
   "metadata": {},
   "outputs": [],
   "source": [
    "zone = {}\n",
    "\n",
    "valp = {'latitude':[-33.06,-33.00],'longitude': [288.36,288.48], 'file':'level04valp.nc'}\n",
    "coq  = {'latitude':[-29.99,-29.80],'longitude': [288.66,288.81], 'file':'level04coq.nc'}\n",
    "\n",
    "zone['valp']= valp\n",
    "zone['coq'] = coq\n",
    "\n",
    "level4 = {'domain': 'local', 'zone': zone}"
   ]
  },
  {
   "cell_type": "code",
   "execution_count": 8,
   "metadata": {},
   "outputs": [],
   "source": [
    "data['level1']=level1\n",
    "data['level2']=level2\n",
    "data['level3']=level3\n",
    "data['level4']=level4"
   ]
  },
  {
   "cell_type": "code",
   "execution_count": 9,
   "metadata": {},
   "outputs": [
    {
     "data": {
      "text/plain": [
       "{'level1': {'domain': 'large',\n",
       "  'zone': {'valp': {'latitude': [-33.06, -33.0],\n",
       "    'longitude': [288.36, 288.48],\n",
       "    'file': 'level01.nc'},\n",
       "   'coq': {'latitude': [-29.99, -29.8],\n",
       "    'longitude': [288.66, 288.81],\n",
       "    'file': 'level01.nc'}}},\n",
       " 'level2': {'domain': 'regional',\n",
       "  'zone': {'valp': {'latitude': [-33.06, -33.0],\n",
       "    'longitude': [288.36, 288.48],\n",
       "    'file': 'level02.nc'},\n",
       "   'coq': {'latitude': [-29.99, -29.8],\n",
       "    'longitude': [288.66, 288.81],\n",
       "    'file': 'level02.nc'}}},\n",
       " 'level3': {'domain': 'local',\n",
       "  'zone': {'valp': {'latitude': [-33.06, -33.0],\n",
       "    'longitude': [288.36, 288.48],\n",
       "    'file': 'level03valp.nc'},\n",
       "   'coq': {'latitude': [-29.99, -29.8],\n",
       "    'longitude': [288.66, 288.81],\n",
       "    'file': 'level03coq.nc'}}},\n",
       " 'level4': {'domain': 'local',\n",
       "  'zone': {'valp': {'latitude': [-33.06, -33.0],\n",
       "    'longitude': [288.36, 288.48],\n",
       "    'file': 'level04valp.nc'},\n",
       "   'coq': {'latitude': [-29.99, -29.8],\n",
       "    'longitude': [288.66, 288.81],\n",
       "    'file': 'level04coq.nc'}}}}"
      ]
     },
     "execution_count": 9,
     "metadata": {},
     "output_type": "execute_result"
    }
   ],
   "source": [
    "data"
   ]
  },
  {
   "cell_type": "code",
   "execution_count": 10,
   "metadata": {},
   "outputs": [],
   "source": [
    "with open(\"Database\", \"wb\") as f:\n",
    "        pickle.dump(data, f)"
   ]
  }
 ],
 "metadata": {
  "kernelspec": {
   "display_name": "Python 3",
   "language": "python",
   "name": "python3"
  },
  "language_info": {
   "codemirror_mode": {
    "name": "ipython",
    "version": 3
   },
   "file_extension": ".py",
   "mimetype": "text/x-python",
   "name": "python",
   "nbconvert_exporter": "python",
   "pygments_lexer": "ipython3",
   "version": "3.7.0"
  }
 },
 "nbformat": 4,
 "nbformat_minor": 4
}
